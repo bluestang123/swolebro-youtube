{
 "cells": [
  {
   "cell_type": "markdown",
   "metadata": {},
   "source": [
    "# RD Tech DPS5020 Power Supply Example\n",
    "\n",
    "This is some demo code that goes along with [this video](https://youtu.be/BoTV7003glU).\n",
    "\n",
    "It demonstrates some basics of using the Modbus protocol to control\n",
    "an RD Tech DPS5020 power supply, version 1.2. It might work with later versions\n",
    "or other products from them - I'm publishing the code so you can try it out and see!\n",
    "If you're familar with Jupyter Notebooks, you can download and run this file as-is.\n",
    "Otherwise, copy and paste what you want out of the GitHub page into a script or python terminal and \n",
    "play around with it that way.\n",
    "\n",
    "My thought is I should be able to hack something like [Pronterface](https://github.com/kliment/Printrun)\n",
    "to monitor the current/voltage output of ths supply while performing\n",
    "[electrochemical machining](https://en.wikipedia.org/wiki/Electrochemical_machining),\n",
    "and then have it step through the G-code to maintain a consistent feed rate and kerf width.\n",
    "Since the resistance that the power supply sees is going to be dependent on the gap, \n",
    "that will affect the output voltage, similar to what you get with a [plasma cutter torch\n",
    "height controller](https://www.youtube.com/watch?v=ZAWTuLad43g). The ability monitor the\n",
    "cutting process would be a major improvement over the proof of concept shown by YouTube user\n",
    "VanDro in [this video](https://www.youtube.com/watch?v=DINs7eMw7IQ).\n",
    "\n",
    "You'll need the `minimalmodbus` Python package, which you can install with `sudo pip install minimalmodbus`\n",
    "on most any Linux system. If your machine is having trouble finding\n",
    "the power supply in `/dev/ttyUSB*` or `/dev/ttyACM*`, see the video for details and try installing the\n",
    "[Arduino IDE](https://www.arduino.cc/en/Guide). If you're using Mac or Windows, it's *probably*\n",
    "going to appear at `/dev/tty.usbmodem*` or `COM*`, respectively.\n",
    "\n",
    "\n",
    "My test device was an electromagnet that was rated for 24 volts and ~0.5 amps.\n",
    "The intput was from a generic 24 volt DC power supply.\n",
    "\n",
    "[Here's](https://www.aliexpress.com/item/32821185351.html) the item on AliExpress, currently\n",
    "under $70 all-in, and [here](https://drive.google.com/open?id=1nP9Vi6cgzv2zbxJG006256rYkz-R_jBL)\n",
    "is where I found the documentation. (Yes, RD Tech publishes it on their Google Drive.)\n",
    "[Here's](https://rdtech.aliexpress.com/store/923042) their official store for all their other products. \n",
    "I'd recommend only buying from the official store, since knock-offs are pretty common when \n",
    "ordering from Chinese export websites.\n",
    "\n",
    "For more info on this supply, see [this teardown](https://www.youtube.com/watch?v=Q2rvAoO-MIA) \n",
    "from the EEVBlog and his [repair video](https://www.youtube.com/watch?v=VwdnGbI5ls8). (Note \n",
    "that the issue with ceramic capacitor has been fixed.) Also, I have an coming video with some\n",
    "tips on assembling it easier. (TODO: add that link when published)"
   ]
  },
  {
   "cell_type": "code",
   "execution_count": null,
   "metadata": {},
   "outputs": [],
   "source": [
    "import minimalmodbus\n",
    "conn = minimalmodbus.Instrument('/dev/ttyUSB0', 1, debug=False)\n",
    "conn.serial.timeout=1\n",
    "conn.serial.baudrate=9600"
   ]
  },
  {
   "cell_type": "code",
   "execution_count": null,
   "metadata": {},
   "outputs": [],
   "source": [
    "# Check that the connection looks sane.\n",
    "conn.serial"
   ]
  },
  {
   "cell_type": "code",
   "execution_count": null,
   "metadata": {},
   "outputs": [],
   "source": [
    "# Register values copied from the PDF documentation.\n",
    "voltset = 0x00\n",
    "ampset = 0x01\n",
    "voltout = 0x02\n",
    "ampout = 0x03\n",
    "cvcc = 0x08\n",
    "switch = 0x09"
   ]
  },
  {
   "cell_type": "code",
   "execution_count": null,
   "metadata": {},
   "outputs": [],
   "source": [
    "# Values are fixed-point with two decimal places, so this is 12V, 0.5A.\n",
    "conn.write_register(voltset, 1200)\n",
    "conn.write_register(ampset, 50)"
   ]
  },
  {
   "cell_type": "code",
   "execution_count": null,
   "metadata": {},
   "outputs": [],
   "source": [
    "# Confirming the settings were accepted.\n",
    "conn.read_register(voltset)"
   ]
  },
  {
   "cell_type": "code",
   "execution_count": null,
   "metadata": {},
   "outputs": [],
   "source": [
    "conn.read_register(ampset)"
   ]
  },
  {
   "cell_type": "code",
   "execution_count": null,
   "metadata": {},
   "outputs": [],
   "source": [
    "# Powering the supply on.\n",
    "conn.write_register(switch, 1)"
   ]
  },
  {
   "cell_type": "code",
   "execution_count": null,
   "metadata": {},
   "outputs": [],
   "source": [
    "# Checking both the output voltage and output amperage.\n",
    "# Note that this is read_registers (plural!), so it can read\n",
    "# register slot 0x02 and 0x03 together, since they are next to each other.\n",
    "conn.read_registers(voltout, 2)"
   ]
  },
  {
   "cell_type": "code",
   "execution_count": null,
   "metadata": {},
   "outputs": [],
   "source": [
    "# Check that it should be in constant voltage mode, ie. 0.\n",
    "conn.read_register(cvcc)"
   ]
  },
  {
   "cell_type": "code",
   "execution_count": null,
   "metadata": {},
   "outputs": [],
   "source": [
    "# Drop the amperate limit to ~1/2 of what I'm seeing my device draw.\n",
    "conn.write_register(ampset, 10)\n",
    "\n",
    "# Note that since the output takes a moment to stabilize, reading\n",
    "# it immediately will likely give bad results.\n",
    "conn.read_registers(voltout, 2)"
   ]
  },
  {
   "cell_type": "code",
   "execution_count": null,
   "metadata": {},
   "outputs": [],
   "source": [
    "# Reading again gives you stable numbers.\n",
    "conn.read_registers(voltout, 2)"
   ]
  },
  {
   "cell_type": "code",
   "execution_count": null,
   "metadata": {},
   "outputs": [],
   "source": [
    "# Now it'll be in constant amperage (ie. 1), and the output voltage will\n",
    "# naturally drop by half.\n",
    "conn.read_register(cvcc)"
   ]
  },
  {
   "cell_type": "code",
   "execution_count": null,
   "metadata": {},
   "outputs": [],
   "source": [
    "# Trying to set the output voltage to the same as the input fails entirely.\n",
    "# The power supply just ignores the request. It will only allow you to set it\n",
    "# as high as V_in - 1. Since my supply is ~24.36V, my max setting is 23.35V.\n",
    "conn.write_register(voltset, 2400)\n",
    "conn.read_register(voltset)"
   ]
  },
  {
   "cell_type": "code",
   "execution_count": null,
   "metadata": {},
   "outputs": [],
   "source": [
    "# This one works.\n",
    "conn.write_register(voltset, 2300)\n",
    "conn.read_register(voltset)"
   ]
  },
  {
   "cell_type": "code",
   "execution_count": null,
   "metadata": {},
   "outputs": [],
   "source": [
    "# Checking the input voltage programatically.\n",
    "# So in the general case, you could detect what your\n",
    "# max should be in the code.\n",
    "conn.read_register(0x05)"
   ]
  },
  {
   "cell_type": "code",
   "execution_count": null,
   "metadata": {},
   "outputs": [],
   "source": [
    "# Dropping the amp max to 0 doesn't actually turn it off.\n",
    "# You'll still see some residual voltage and amperage draw.\n",
    "conn.write_register(ampset, 0)"
   ]
  },
  {
   "cell_type": "code",
   "execution_count": null,
   "metadata": {},
   "outputs": [],
   "source": [
    "conn.read_register(cvcc)"
   ]
  },
  {
   "cell_type": "code",
   "execution_count": null,
   "metadata": {},
   "outputs": [],
   "source": [
    "conn.read_registers(voltout, 2)"
   ]
  },
  {
   "cell_type": "code",
   "execution_count": null,
   "metadata": {},
   "outputs": [],
   "source": [
    "# Jacking the amerage limit way up now.\n",
    "# Since my input supply is 24V, and the DPS2050 is a buck converter,\n",
    "# the maximum output voltage ends up being ~21.35V, even though\n",
    "# the supply does let you set a higher voltage, as above.\n",
    "conn.write_register(ampset,100)"
   ]
  },
  {
   "cell_type": "code",
   "execution_count": null,
   "metadata": {},
   "outputs": [],
   "source": [
    "conn.read_registers(voltout, 2)"
   ]
  },
  {
   "cell_type": "code",
   "execution_count": null,
   "metadata": {},
   "outputs": [],
   "source": [
    "# Now it still claims constant current, even though that's not exactly true.\n",
    "conn.read_register(cvcc)"
   ]
  },
  {
   "cell_type": "code",
   "execution_count": null,
   "metadata": {},
   "outputs": [],
   "source": [
    "# Turning it off.\n",
    "conn.write_register(switch, 0)"
   ]
  }
 ],
 "metadata": {
  "kernelspec": {
   "display_name": "Python 3",
   "language": "python",
   "name": "python3"
  },
  "language_info": {
   "codemirror_mode": {
    "name": "ipython",
    "version": 3
   },
   "file_extension": ".py",
   "mimetype": "text/x-python",
   "name": "python",
   "nbconvert_exporter": "python",
   "pygments_lexer": "ipython3",
   "version": "3.7.1"
  }
 },
 "nbformat": 4,
 "nbformat_minor": 2
}
